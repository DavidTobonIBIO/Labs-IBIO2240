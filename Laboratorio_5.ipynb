{
  "cells": [
    {
      "cell_type": "markdown",
      "metadata": {
        "id": "aiVyYM0UZ9Cg"
      },
      "source": [
        "# **Laboratorio 5: Planteamiento y solución de problemas de optimización**\n",
        "**Facultad de ingeniería, departamento de Ingeniería Biomédica, Universidad de los Andes**\\\n",
        "**IBIO-2440 Programación científica**"
      ]
    },
    {
      "attachments": {},
      "cell_type": "markdown",
      "metadata": {
        "id": "aTJOo3lnar5X"
      },
      "source": [
        "**Nombres de los integrantes**\n",
        "\n",
        "\n",
        "1.   David Santiago Rodríguez Quiroga\n",
        "2.   David Tobón Molina\n",
        "\n",
        "**Número del grupo**\n",
        "\n",
        "Grupo 2"
      ]
    },
    {
      "cell_type": "markdown",
      "metadata": {
        "id": "OambcLreVN_P"
      },
      "source": [
        "Los problemas de optimización se consituyen de seis aspectos esenciales: variables de decisión, función objetivo, región factible, restricciones, criterios de optimalidad y métodos de solución tanto analíticos como numéricos. En general, un problema de optimización se resuelve mediante métodos numéricos debido a la complejidad matemática que conlleva modelar un problema real. La mayoría de estos métodos ya vienen implementados en librerías asociadas a lenguajes de programación, por lo que, en un principio, solucionar problemas de optimización genéricos consiste en usar una librería de optimización adecuada. En Python, existen múltiples librerias de optimización. Sin embargo, la más usada y desarrollada es SciPy, la cual no solo permite resolver problemas de optimización, sino también problemas de cálculo, procesaminto de señales e imágenes, álgebra lineal, entre muchos otros. \n",
        "\n",
        "El plantamiento de un problema de optimización se puede dividir en dos grandes ramas; problemas lineales y no lineales, los cuales también se conocen como: programación lineal y programación no lineal. En este sentido, este laboratorio consiste en plantear, analizar y solucionar un problema lineal. Para esto, es necesaria una breve introducción teórica. Un problema de optimización se modela matemáticamente mediante una función objetivo, la cual debe mapear un espacio de $n$ dimensiones y arrojar un valor escalar, es decir, sea $f:\\mathbb{R}^n \\rightarrow \\mathbb{R}$, luego, esta función de desea minimizar o maximizar dependiendo del contexto del problema. Encontrar un mínimo de una función, sea local o global, en general modela un problema real, debido a que esta función está sujeta a restricciones. Estas últimas se plantean con ecuaciones o inecuaciones adicionales asociadas a las variables independientes. En el caso de la programación lineal, se plantean mediante un sistema de ecuaciones o inecuaciones, de la forma:\n",
        "\n",
        "\\begin{align*}\n",
        "  Ax \\leq B\n",
        "\\end{align*}\n",
        "\n",
        "Donde $A$ es la matriz de coeficientes, $x$ el vector de variables y $B$ el vector de restricciones. Luego, un problema de programación lineal se plantea de la forma:\n",
        "\n",
        "\\begin{align*}\n",
        "  \\min_x f(x)\n",
        "\\end{align*}\n",
        "\n",
        "o\n",
        "\n",
        "\\begin{align*}\n",
        "  \\max_x f(x)\n",
        "\\end{align*}\n",
        "\n",
        "Sujeto a\n",
        "\n",
        "\\begin{align*}\n",
        "  Ax \\leq B\n",
        "\\end{align*}\n",
        "\n",
        "Además, en general, se define $x \\geq 0$"
      ]
    },
    {
      "attachments": {},
      "cell_type": "markdown",
      "metadata": {
        "id": "mXzu0AXFn90N"
      },
      "source": [
        "# **Programación lineal**\n",
        "\n",
        "En programación lineal, debido a su simplicidad, existen varias formas de resolver un problema de optimización. En este caso se va a trabajar con dos, una con una interpretación gráfica y otra con el uso de la función *linprog* de la librería *optimize* de *spicy*. El problema es el siguiente:\n",
        "\n",
        "Un paciente ha sufrido un accidente que le impidió realizar ejercicio durante un año, por lo que, inevitablemente, subió de peso considerablemente. Este paciente acude al nutricionista con el objetivo de retomar el ejercicio y volver a su estado físico de antes. El paciente indica que tiene afición por tres tipos de ejercicio: montar bicicleta, ir al gimnasio y nadar, con los cuales puede consumir 300, 600 y 900 calorías por hora respectivamente. Dado que lleva mucho tiempo sin realizar ejercicio y aparte se ha recuperado de una lesión, debe cumplir ciertas restricciones:\n",
        "\n",
        "- No puede realizar más de 4 horas de ejercicio al día\n",
        "- Por disponibilidad, puede ir nadar 2 veces por semana, al gimnasio 3 veces por semana y montar bicicleta todos los días a la semana.\n",
        "- El paciente tiene preferecia por el gimnasio, por lo que quiere gastar al menos un tercio del tiempo a la semana en este ejercicio\n",
        "- Se le recomienda montar bibicleta al menos una hora al día para acelerar la recuperación de la lesión\n",
        "\n",
        "Usted desea maximizar el consumo de calorias por semana.\n",
        "\n",
        "1. Plantee el problema de optimización como un problema de programación lineal\n"
      ]
    },
    {
      "attachments": {},
      "cell_type": "markdown",
      "metadata": {
        "id": "4sZcmfUdPYvv"
      },
      "source": [
        "***Escriba aquí la función objetivo, las variables de decisión con su significado y las restricciones con sus descripciones asociadas***\n",
        "b: horas de montar bicicleta\n",
        "g: horas en el gimnasio\n",
        "n: horas de natación\n",
        "\n",
        "\\begin{align*}\n",
        "  f(x) = -300b -600g -900n \\enspace  sujeto \\enspace a:\n",
        "\\end{align*}\n",
        "\n",
        "\\begin{align*}\n",
        "A = \\begin{pmatrix}\n",
        "1 & 1 & 1 \\\\\n",
        "1 & -2 & 1 \\\\\n",
        "\\end{pmatrix}\n",
        "\\end{align*}\n",
        "\n",
        "\\begin{align*}\n",
        "x = \\begin{bmatrix}\n",
        "b \\\\\n",
        "g \\\\\n",
        "n\n",
        "\\end{bmatrix}\n",
        "\\end{align*}\n",
        "\n",
        "La suma de las horas debe ser menor a 28, 4 horas semanalaes x 7 días a la semana.\n",
        "Las horas de montar bicileta deben de ser mínimo 1 hora diaria: 1 hora x 7 días a la semana.\n",
        "Las horas de gimnasio deben ser un tercio de las horas de ejercicio semanales.\n",
        "Las 2 últimas condiciones son escritas con signos negativos para que se cumpla la igualdad Ax ≤ B.\n",
        "\n",
        "\\begin{align*}\n",
        "B = \\begin{bmatrix}\n",
        "4 \\\\\n",
        "0 \\\\\n",
        "\\end{bmatrix}\n",
        "\\end{align*}\n",
        "\n",
        "\\begin{align*}\n",
        "x \\geq 0\n",
        "\\end{align*}\n",
        "\n",
        "\\begin{align*}\n",
        "Ax \\leq B\n",
        "\\end{align*}\n",
        "\n",
        "\\begin{align*}\n",
        "c = [-300, -600, -900]\n",
        "\\end{align*}\n"
      ]
    },
    {
      "cell_type": "markdown",
      "metadata": {
        "id": "xMp-7hZzQT-W"
      },
      "source": [
        "1. Resuelva el problema usando la función *linprog* de la librería optimize con método simplex"
      ]
    },
    {
      "cell_type": "code",
      "execution_count": 9,
      "metadata": {
        "id": "3IbTzblgQbNd"
      },
      "outputs": [
        {
          "name": "stdout",
          "output_type": "stream",
          "text": [
            "Intento 1:  message: Optimization terminated successfully.\n",
            " success: True\n",
            "  status: 0\n",
            "     fun: -2600.0\n",
            "       x: [ 1.000e+00  1.333e+00  1.667e+00]\n",
            "     nit: 3\n"
          ]
        },
        {
          "name": "stderr",
          "output_type": "stream",
          "text": [
            "C:\\Users\\Public\\Documents\\Wondershare\\CreatorTemp\\ipykernel_16380\\524065630.py:13: DeprecationWarning: `method='simplex'` is deprecated and will be removed in SciPy 1.11.0. Please use one of the HiGHS solvers (e.g. `method='highs'`) in new code.\n",
            "  return linprog(c=-obj, A_ub=A, b_ub=B, bounds=(lim_bici, lim_gym, lim_nat), method='simplex')\n"
          ]
        }
      ],
      "source": [
        "from scipy.optimize import linprog, minimize, LinearConstraint\n",
        "import numpy as np\n",
        "\n",
        "lim_bici = (1, None)\n",
        "lim_gym = (0, None)\n",
        "lim_nat = (0, None)\n",
        "A = np.array([[1, 1, 1], [1, -2, 1]])\n",
        "B = np.array([4, 0])\n",
        "  \n",
        "def intento1(A, B, lim_bici, lim_gym, lim_nat):\n",
        "     \n",
        "     obj = np.array([300, 600, 900])\n",
        "     return linprog(c=-obj, A_ub=A, b_ub=B, bounds=(lim_bici, lim_gym, lim_nat), method='simplex')\n",
        "\n",
        "print(\"Intento 1:\", intento1(A, B, lim_bici, lim_gym, lim_nat))\n"
      ]
    },
    {
      "cell_type": "markdown",
      "metadata": {
        "id": "WFR808tlAwMZ"
      },
      "source": [
        "2. Resuelva el problema pero ahora usando la función *minimize* de la librería *optimize*. Esta función requiere una condición inicial, escójala de forma que cumpla las restricciones.\n",
        "\n"
      ]
    },
    {
      "cell_type": "code",
      "execution_count": 10,
      "metadata": {
        "id": "nmV-dXyiJJD1"
      },
      "outputs": [
        {
          "name": "stdout",
          "output_type": "stream",
          "text": [
            " message: Optimization terminated successfully\n",
            " success: True\n",
            "  status: 0\n",
            "     fun: -2600.0002303116653\n",
            "       x: [ 1.000e+00  1.333e+00  1.667e+00]\n",
            "     nit: 3\n",
            "     jac: [-3.000e+02 -6.000e+02 -9.000e+02]\n",
            "    nfev: 9\n",
            "    njev: 2\n"
          ]
        },
        {
          "name": "stderr",
          "output_type": "stream",
          "text": [
            "C:\\Users\\LENOVO\\AppData\\Roaming\\Python\\Python311\\site-packages\\scipy\\optimize\\_constraints.py:525: OptimizeWarning: Equality and inequality constraints are specified in the same element of the constraint list. For efficient use with this method, equality and inequality constraints should be specified in separate elements of the constraint list. \n",
            "  warn(\"Equality and inequality constraints are specified in the same \"\n"
          ]
        }
      ],
      "source": [
        "def funcion(args):\n",
        "    b, g, n = args\n",
        "    return -300*b - 600*g - 900*n\n",
        "\n",
        "constraint = LinearConstraint(A, lb=[0,0], ub=[4, 0])\n",
        "condicion_inicial = [2, 1, 0]\n",
        "\n",
        "print(minimize(funcion, condicion_inicial, bounds=(lim_bici, lim_gym, lim_nat), constraints=constraint))"
      ]
    },
    {
      "attachments": {},
      "cell_type": "markdown",
      "metadata": {
        "id": "lJpZpf0JDWgc"
      },
      "source": [
        "3. Verifique que la solución cumple las restricciones."
      ]
    },
    {
      "attachments": {
        "image.png": {
          "image/png": "[encoded data removed]"
        }
      },
      "cell_type": "markdown",
      "metadata": {},
      "source": [
        "![image.png](attachment:image.png)"
      ]
    },
    {
      "cell_type": "code",
      "execution_count": 20,
      "metadata": {},
      "outputs": [
        {
          "name": "stdout",
          "output_type": "stream",
          "text": [
            "[4.00000000e+00 2.22044605e-16]\n"
          ]
        }
      ],
      "source": [
        "x = np.array([1,4/3,5/3])\n",
        "verificacion = np.dot(A,x)\n",
        "print(verificacion)"
      ]
    },
    {
      "cell_type": "markdown",
      "metadata": {
        "id": "HBwUjRjNDpGT"
      },
      "source": [
        "4. Encuentre los demás puntos que cumplen las restricciones.\n",
        "\n",
        "Ayuda: el número de puntos que cumplen las restriciones se calcula mediante la fórmula:\n",
        "\n",
        "\\begin{align*}\n",
        "  \\frac{n!}{m!(n-m)!}\n",
        "\\end{align*}\n",
        "\n",
        "Donde $n$ es el número de variables y $m$ el número de restricciones"
      ]
    },
    {
      "cell_type": "code",
      "execution_count": null,
      "metadata": {
        "id": "Fl_E4d65DyXA"
      },
      "outputs": [],
      "source": []
    },
    {
      "cell_type": "markdown",
      "metadata": {
        "id": "-PmIcBNCDzM4"
      },
      "source": [
        "5. Evalue la función objetivo en los puntos hallados y verifique que el encontrado mediante *linprog* y *minimize* sí es el óptimo"
      ]
    },
    {
      "cell_type": "code",
      "execution_count": null,
      "metadata": {
        "id": "VQVr9-GIFlFn"
      },
      "outputs": [],
      "source": []
    },
    {
      "cell_type": "markdown",
      "metadata": {
        "id": "nCk19LSXGL6o"
      },
      "source": [
        "6. Compare el método por *linprog* y *minimize*. Verifique el número de iteraciones, ¿cuál es el más preciso?, ¿cuál es más eficiente?"
      ]
    },
    {
      "cell_type": "code",
      "execution_count": null,
      "metadata": {
        "id": "f23_NFaXGq5X"
      },
      "outputs": [],
      "source": []
    }
  ],
  "metadata": {
    "colab": {
      "provenance": []
    },
    "kernelspec": {
      "display_name": "Python 3",
      "language": "python",
      "name": "python3"
    },
    "language_info": {
      "codemirror_mode": {
        "name": "ipython",
        "version": 3
      },
      "file_extension": ".py",
      "mimetype": "text/x-python",
      "name": "python",
      "nbconvert_exporter": "python",
      "pygments_lexer": "ipython3",
      "version": "3.11.2"
    },
    "vscode": {
      "interpreter": {
        "hash": "5238573367df39f7286bb46f9ff5f08f63a01a80960060ce41e3c79b190280fa"
      }
    }
  },
  "nbformat": 4,
  "nbformat_minor": 0
}
