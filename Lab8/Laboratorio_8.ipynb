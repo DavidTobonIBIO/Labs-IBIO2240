{
  "nbformat": 4,
  "nbformat_minor": 0,
  "metadata": {
    "colab": {
      "provenance": []
    },
    "kernelspec": {
      "name": "python3",
      "display_name": "Python 3"
    },
    "language_info": {
      "name": "python"
    }
  },
  "cells": [
    {
      "cell_type": "markdown",
      "source": [
        "# Laboratorio 8: Implementación algoritmo de regresión lineal\n",
        "**Facultad de ingeniería, departamento de Ingeniería Biomédica, Universidad de los Andes**\\\n",
        "**IBIO-2440 Programación científica**"
      ],
      "metadata": {
        "id": "cl_j2KwtVuYT"
      }
    },
    {
      "cell_type": "markdown",
      "source": [
        "**Nombres de los integrantes**\n",
        "\n",
        "\n",
        "1.   Nombre integrante 1\n",
        "2.   Nombre integrante 2\n",
        "\n",
        "**Número del grupo**\n",
        "\n",
        "*Escribir el número del grupo*"
      ],
      "metadata": {
        "id": "dmnIao0gV6XJ"
      }
    },
    {
      "cell_type": "markdown",
      "source": [
        "# **Regresión lineal**\n",
        "\n",
        "Considere el conjunto de puntos:\\\n",
        " $(x^{(1)},y^{(1)}), (x^{(2)},y^{(2)}), ... , (x^{(m)},y^{(m)})$,\n",
        "\n",
        "donde se asume que se relacionan a través de la ecuación:\n",
        "\\begin{align*}\n",
        "  y^{(i)} \\approx β_{1} + &x^{(i)}β_{2}\\\\\n",
        " \\end{align*}\n",
        "Encontrar $\\beta=[\\beta_1,\\beta_1]^T$ se resuelve a través de la solución del problema de mínimos cuadrados:\n",
        "\\begin{align*}\n",
        "  \\min_\\beta ||y-H\\beta||_2^2,\n",
        " \\end{align*}\n",
        "donde $y$ y $H$ se contruyen a partir de los datos como se vio en clase. La solución analítica de este problema tiene la forma:\n",
        "\\begin{align*}\n",
        "  \\beta^* =  (H^TH)^{-1}H^Ty\n",
        " \\end{align*}\n",
        " \n",
        "Ahora, sigua los siguientes pasos:\n",
        "\n",
        "1. Teniendo en cuenta los datos anexados en la actividad en archivo excel, use la libreria *pandas* para procesarlos y trabajar con ellos. La primera columna corresponde a los valores de $x$ y la segunda a los valores de $y$.\n"
      ],
      "metadata": {
        "id": "pkVvrCyYV-c2"
      }
    },
    {
      "cell_type": "code",
      "source": [],
      "metadata": {
        "id": "97J2a5gp2aXH"
      },
      "execution_count": null,
      "outputs": []
    },
    {
      "cell_type": "markdown",
      "source": [
        "2. Construya la matriz $H$ y el vector $y$."
      ],
      "metadata": {
        "id": "Jq9uexuhWDeY"
      }
    },
    {
      "cell_type": "code",
      "source": [],
      "metadata": {
        "id": "5XGM9zbo4JEK"
      },
      "execution_count": null,
      "outputs": []
    },
    {
      "cell_type": "markdown",
      "source": [
        "3. Encuentre los valores de $\\beta^*$."
      ],
      "metadata": {
        "id": "YIbtDrJU4JN3"
      }
    },
    {
      "cell_type": "code",
      "source": [],
      "metadata": {
        "id": "tg_nSj4B4Ps3"
      },
      "execution_count": null,
      "outputs": []
    },
    {
      "cell_type": "markdown",
      "source": [
        "4. Grafique la recta obtenida junto a los datos anexados."
      ],
      "metadata": {
        "id": "2h2rqn-k4QQh"
      }
    },
    {
      "cell_type": "code",
      "source": [],
      "metadata": {
        "id": "j3OB9g-464Dh"
      },
      "execution_count": null,
      "outputs": []
    },
    {
      "cell_type": "markdown",
      "source": [
        "5. Con los coeficientes hallados, se desea comparar el error con otras dos parejas de coeficientes:\n",
        "\n",
        " - $\\beta_a=[\\beta_1^*+5, \\beta_2^*-1]^T$\n",
        " - $\\beta_b=[\\beta_1^*-5, \\beta_2^*+1]^T$.\n",
        "\n",
        "Determine el valor de:\n",
        "\n",
        "  \\begin{align*}\n",
        "  ||y-H\\beta||_2^2\n",
        " \\end{align*}\n",
        "\n",
        "para $\\beta^*$, $\\beta_a$, y $\\beta_b$. Aquí los valores de $y$ y $H$ son los mismos para todos ya que los datos no cambian. Explique los resultados obtenidos. "
      ],
      "metadata": {
        "id": "rMRjXkcE5H8B"
      }
    },
    {
      "cell_type": "code",
      "source": [],
      "metadata": {
        "id": "9qhW5uQmDQl4"
      },
      "execution_count": null,
      "outputs": []
    },
    {
      "cell_type": "markdown",
      "source": [
        "6. Grafique el las tres rectas (es decir, las obtenidas por $\\beta^*$, $\\beta_a$, y $\\beta_b$)  junto a los datos anexados. En un scatter plot pinte los datos en el archivo, y pinte las tres rectas traslapadas con tres colores diferentes. Interprete los resultados obtenidos."
      ],
      "metadata": {
        "id": "rFZquyhmDPxt"
      }
    },
    {
      "cell_type": "code",
      "source": [],
      "metadata": {
        "id": "OwmmTa6tDXZn"
      },
      "execution_count": null,
      "outputs": []
    }
  ]
}