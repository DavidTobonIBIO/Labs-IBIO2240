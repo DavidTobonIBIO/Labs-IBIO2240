{
  "nbformat": 4,
  "nbformat_minor": 0,
  "metadata": {
    "colab": {
      "provenance": []
    },
    "kernelspec": {
      "name": "python3",
      "display_name": "Python 3"
    },
    "language_info": {
      "name": "python"
    }
  },
  "cells": [
    {
      "cell_type": "markdown",
      "source": [
        "# ** RETO (opcional): Implementación algoritmo de descenso de gradiente en problema con múltiples minínimos locales **\n",
        "**Facultad de ingeniería, departamento de Ingeniería Biomédica, Universidad de los Andes**\\\n",
        "**IBIO-2440 Programación científica**"
      ],
      "metadata": {
        "id": "775dekHVI9gl"
      }
    },
    {
      "cell_type": "markdown",
      "source": [
        "**Nombres de los integrantes**\n",
        "\n",
        "\n",
        "1.   Nombre integrante 1\n",
        "2.   Nombre integrante 2\n",
        "\n",
        "**Número del grupo**\n",
        "\n",
        "*Escribir el número del grupo*"
      ],
      "metadata": {
        "id": "FHIOLOzzJK2L"
      }
    },
    {
      "cell_type": "markdown",
      "source": [
        "Considere el problema de optimización:\n",
        "\n",
        "\n",
        "\n",
        "> $\\min_x f(x)$ sujeto a $x\\in\\mathbb{R}^3$\n",
        "\n",
        "donde $f:\\mathbb{R^3}→\\mathbb{R}$ y $x=[x_1,x_2,x_3]^T$. Note que este es un problema de minmización sin restricciones en $\\mathbb{R}^3$. Se sabe que la función es derivable y posee varios minimizadores locales entre los cuales hayun minimizador global, todos con posiciones desconocidas. El objetivo del presente laboratorio bono es implementar y utilizar el algoritmo de descenso de gradiente para identificar la mayor cantidad de candidatos a minimizadores locales dentro de una región dada e identificar el posible minimizador global. \n",
        "\n",
        "*   Implemente su propia rutina del algoritmo de descenso de gradiente teniendo en cuenta que los minimizadores de la función están definida por $x_i ∈ [-5, 5]$ para cada $i = 1, …, 3$. Es decir, cada componente de $x$ està entre $-5$ y $5$. Defina un tamaño del salto $\\alpha$ y un parámetro de criterio de parada $ϵ$ que usted considere conveniente para resolver el problema. Estime el gradiente de la función evaluado en un punto de forma numérica (como se hizo en una práctica anterior), y bajo ninguna circunstancia utilice variables simbólicas.\n",
        "   \n",
        "*    Corra el algoritmo de descenso de gradiente al menos para 500 condiciones iniciales diferentes, y guarde las soluciones resultantes de cada corrida (ya sea definidas de forma aleatoria o haciendo un recorrido definido en la región donde se sabe están los minimizadores locales). Basados en estos resultados, realice una tabla donde incluya los valores aproximados de los candidatos a minimizadores locales (recuerden que cada candidato es un vector 3-dimensional), el candidato a minimizador global, y el respectivo número de iteraciones que el algoritmo de descenso de gradiente requirió para llegar a la respuesta.\n",
        "\n",
        "\\\\\n",
        "\n",
        "Esta actividad funciona como un bono para la nota del primer parcial de los integrantes del grupo. La nota se asignará dependiendo de el correcto seguimiento de las instrucciones anteriores y la cantidad de minimizadores locales reales que su algoritmo encuentre. Cada grupo debe desarrollar su propia solución y no se permitirá copia entre grupos de todo el curso. Una falta ante esto se reportará inmediatamente ante el comité de ética de la facultad. \n",
        "\n"
      ],
      "metadata": {
        "id": "WqexwZZjJUFQ"
      }
    },
    {
      "cell_type": "code",
      "execution_count": null,
      "metadata": {
        "id": "2XK-Ktgm8D-O",
        "colab": {
          "base_uri": "https://localhost:8080/"
        },
        "outputId": "4bc239e3-3584-4a5a-fdd3-7e8b78f7666c",
        "cellView": "form"
      },
      "outputs": [
        {
          "output_type": "stream",
          "name": "stdout",
          "text": [
            "Looking in indexes: https://pypi.org/simple, https://us-python.pkg.dev/colab-wheels/public/simple/\n",
            "Collecting benchmark_functions\n",
            "  Downloading benchmark_functions-1.1.3-py3-none-any.whl (46 kB)\n",
            "\u001b[2K     \u001b[90m━━━━━━━━━━━━━━━━━━━━━━━━━━━━━━━━━━━━━━━━\u001b[0m \u001b[32m46.1/46.1 KB\u001b[0m \u001b[31m1.4 MB/s\u001b[0m eta \u001b[36m0:00:00\u001b[0m\n",
            "\u001b[?25hRequirement already satisfied: numpy in /usr/local/lib/python3.8/dist-packages (from benchmark_functions) (1.22.4)\n",
            "Requirement already satisfied: packaging in /usr/local/lib/python3.8/dist-packages (from benchmark_functions) (23.0)\n",
            "Installing collected packages: benchmark_functions\n",
            "Successfully installed benchmark_functions-1.1.3\n"
          ]
        }
      ],
      "source": [
        "#@title Corra esta celda para cargar los datos del ejercicio\n",
        "!pip install benchmark_functions\n",
        "import benchmark_functions as bf\n",
        "import numpy as np\n",
        "\n",
        "# func es el objeto creado con la funcion a minimizar\n",
        "func = bf.StyblinskiTang(n_dimensions=3)"
      ]
    },
    {
      "cell_type": "code",
      "source": [
        "# Dado un punto x0, func permite evaluar la función objetivo en x0 \n",
        "x0 = np.array([1.0, 1.0, 1.0]) \n",
        "f=func(x0)\n",
        "print(f)"
      ],
      "metadata": {
        "id": "YWsqQ0tq9D84",
        "colab": {
          "base_uri": "https://localhost:8080/"
        },
        "outputId": "62b1b692-b907-4398-a9f1-2b240e161ee8"
      },
      "execution_count": null,
      "outputs": [
        {
          "output_type": "stream",
          "name": "stdout",
          "text": [
            "-15.0\n"
          ]
        }
      ]
    }
  ]
}