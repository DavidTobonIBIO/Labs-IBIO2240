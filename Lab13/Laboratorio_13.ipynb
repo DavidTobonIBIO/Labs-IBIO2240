{
  "cells": [
    {
      "attachments": {},
      "cell_type": "markdown",
      "metadata": {
        "id": "cl_j2KwtVuYT"
      },
      "source": [
        "# Laboratorio 13: Análisis de ecuaciones diferenciales\n",
        "**Facultad de ingeniería, departamento de Ingeniería Biomédica, Universidad de los Andes**\\\n",
        "**IBIO-2440 Programación científica**"
      ]
    },
    {
      "attachments": {},
      "cell_type": "markdown",
      "metadata": {
        "id": "dmnIao0gV6XJ"
      },
      "source": [
        "**Nombres de los integrantes**\n",
        "\n",
        "\n",
        "1.   David Tobón Molina\n",
        "2.   David Santiago Rodríguez\n",
        "\n",
        "**Número del grupo**\n",
        "\n",
        "Grupo 2"
      ]
    },
    {
      "attachments": {},
      "cell_type": "markdown",
      "metadata": {
        "id": "pkVvrCyYV-c2"
      },
      "source": [
        "# **Introducción**\n",
        "\n",
        "\n",
        "Un modelo matemático potencialmente podría permitir caracterizar fenómenos físico en diversos campos de la ciencia. Por esta razón, existen diferentes tipos de modelos matemáticos, cada uno con características específicas que se adaptan al objetivo que se desea alcanzar. En el caso de un modelo epidémico, su objetivo principal es predecir los picos de infección en un intervalo de tiempo bajo diferentes condiciones para optimizar las medidas de bioseguridad correspondientes y minimizar los efectos negativos sobre la población humana. Por lo tanto, muchas combinaciones pueden ser planteadas para hacer énfasis en una problemática específica y recopilar resultados para tomar la decisión más precisa. El modelo epidémico más común es el modelo *SI*, el cual involucra dos grupos poblacionales: susceptibles e infectados. Estos grupos interactuan entre sí, de manera que un porcentaje de los susceptibles pueden infectarse y, a su vez, un porcentaje de infectados pueden recuperarse para volver a ser susceptibles. Nótese que se trata de un comportamiento cíclico, el cual usualemente se representa por un diagráma de flujo.\n",
        "\n",
        "![1.png](data:image/png;base64,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)\n",
        "\n",
        "Acá hay parámetros adicionales de entrada y salida, los cuales, dependiendo del modelo, se pueden incluir para representar dinámicas vitales, tales como la natalidad y la mortalidad.\n",
        "\n",
        "\n",
        "# **Descripción de la práctica**\n",
        "\n",
        "En esta prática se desea analizar la dinámica de la receciente pandemia, COVID-19 en Colombia, donde mediante simulaciones acompañadas de aproximaciones numéricas se estudiar el efecto de los parámetros en un modelo *SIR*. Este modelo se representa matemáticamente mediante un sistema de ecuaciones diferenciales:\n",
        "\n",
        "\\begin{align*}\n",
        "  &\\frac{dS}{dt} = \\mu + βI(t) - \\frac{α}{N}S(t)I(t)\\\\\n",
        "  &\\frac{dI}{dt} = \\frac{α}{N}S(t)I(t) - βI(t) - γI(t)\\\\\n",
        "\\end{align*}\n",
        "\n",
        "Donde $α$, $ω$ y $β$, son parámetros constantes del sistema. A continuación se presentan los valores numéricos y el significado de cada parámetro:\n",
        "\n",
        "- $\\beta = 0.2 \\frac{1}{día}$: Tasa de recuperación hospitalaria.\n",
        "- $\\alpha = 1 \\frac{1}{día}$: Tasa de infección. \n",
        "- $\\mu = 1560 \\frac{Individuo}{día}$: Tasa de natalidad diaria.\n",
        "- $\\gamma = 0.2 \\frac{1}{día}$: Tasa de mortalidad por COVID-19.\n",
        "- $N = 50×10^6 Individuos$: Población inicial.\n",
        "\n",
        "Para analizar el modelo anterior, se usará la función *odeint* de la librería *scipy.integrate*, la cual permite simular ecuaciones diferenciales mediante aproximaciones numéricas.\n",
        "\n",
        "# **Descripción de la función *odeint***\n",
        "\n",
        "Esta función aproxima la solución de una o un sistema de ecuaciones diferenciales mediante diferencias finitas. Recordando la aproximación de la derivada o gradiente vista en laboratorios anteriores, esta se usa para convertir un sistema de ecuaciones diferenciales en uno de ecuaciones algebráicas. Miremos el siguiente ejemplo:\n",
        "\n",
        "\n",
        "\\begin{align*}\n",
        "  \\frac{dy}{dx} = \\frac{y-x}{y+x}\n",
        "\\end{align*}\n",
        "\n",
        "Aproximando la derivada por diferencias finitas:\n",
        "\n",
        "\\begin{align*}\n",
        "  \\frac{y(x+h)-y(x)}{h} = \\frac{y(x)-x}{y(x)+x}\n",
        "\\end{align*}\n",
        "\n",
        "Despejando $y(x+h)$:\n",
        "\n",
        "\\begin{align*}\n",
        "  y(x+h) = h\\frac{y(x)-x}{y(x)+x} + y(x)\n",
        "\\end{align*}\n",
        "\n",
        "Ahora, sea $x+h=x(k+1)$ y $x = x(k)$\n",
        "\n",
        "\\begin{align*}\n",
        "  y[x(k+1)] = h\\frac{y[x(k)]-x(k)}{y[x(k)]+x(k)} + y[x(k)]\n",
        "\\end{align*}\n",
        "\n",
        "Con una condición inial $x(0)=x_0$, se puede comenzar a iterar hasta alcanzar algun criterio de parada. Note que el algoritmo depende tanto de una condición inicial como un tamaño de paso, por lo que es importante definir estos parámetros. La función *odeint* establece como predeterminado un tamaño de paso $h$, sin embargo, este puede ser modificado, pero en pocos casos esto tiene un efecto significativo.\n",
        "\n",
        "\n",
        " Para esto, siga estos pasos:\n",
        "\n",
        "1. Haga un análisis dimensional, es decir, determine si las ecuaciones tienen coherencia en cuanto a las unidades.\n",
        "\n"
      ]
    },
    {
      "attachments": {},
      "cell_type": "markdown",
      "metadata": {},
      "source": [
        "\\begin{align*}\n",
        "  &\\frac{dS}{dt} (\\frac{individuo}{día}) = \\mu (\\frac{individuo}{día}) + β(\\frac{1}{día})I(t)(individuo) - \\frac{α}{N}(\\frac{1}{día*individuo})S(t)(individuo)I(t)(individuo)\\\\\n",
        "  &(\\frac{individuo}{día}) = (\\frac{individuo}{día}) + (\\frac{individuo}{día}) - (\\frac{individuo}{día})\\\\\n",
        "  &(\\frac{individuo}{día}) = (\\frac{individuo}{día})\\\\\n",
        "  \\thinspace\\\\\n",
        "  &\\frac{dI}{dt} (\\frac{individuo}{día})= \\frac{α}{N}(\\frac{1}{día*individuo})S(t)(individuo)I(t)(individuo) - β(\\frac{1}{día})I(t)(individuo) - γ\\frac{1}{día}I(t)(individuo)\\\\\n",
        "  &(\\frac{individuo}{día}) = (\\frac{individuo}{día}) - (\\frac{individuo}{día}) - (\\frac{individuo}{día})\\\\\n",
        "  &(\\frac{individuo}{día}) = (\\frac{individuo}{día})\\\\\n",
        "\n",
        "\\end{align*}"
      ]
    },
    {
      "attachments": {},
      "cell_type": "markdown",
      "metadata": {
        "id": "udRcOfJ9-254"
      },
      "source": [
        "2. Importe las liberías y funciones necesarias."
      ]
    },
    {
      "cell_type": "code",
<<<<<<< HEAD
      "execution_count": 13,
=======
      "execution_count": 77,
>>>>>>> 6de46025991e1d09e6450b6f8077b93b5f837355
      "metadata": {
        "id": "vABH2ZUdta50"
      },
      "outputs": [],
      "source": [
        "import numpy as np\n",
        "from scipy.integrate import odeint\n",
        "import matplotlib.pyplot as plt"
      ]
    },
    {
      "attachments": {},
      "cell_type": "markdown",
      "metadata": {
        "id": "Tm6YnT4YtdRo"
      },
      "source": [
        "2. Establezca los valores de los parámetros constantes."
      ]
    },
    {
      "cell_type": "code",
<<<<<<< HEAD
      "execution_count": 14,
=======
      "execution_count": 78,
>>>>>>> 6de46025991e1d09e6450b6f8077b93b5f837355
      "metadata": {
        "id": "ijsUXo44tx6c"
      },
      "outputs": [],
      "source": [
        "beta = 0.2\n",
        "alpha = 1\n",
        "mu = 1560\n",
        "gamma = 0.2\n",
        "N = 50e6"
      ]
    },
    {
      "attachments": {},
      "cell_type": "markdown",
      "metadata": {
        "id": "vSVxNOmPtyKn"
      },
      "source": [
        "3. Ahora debe crear la función de entrada. Esta contiene el sistema de ecuaciones diferenciales mostrado anteriormente, la cual debe recibir como parámetro una variable que continene las vaiables de estado, es decir, si le entra como parámetro la variable $z$, entonces, dentro de la función se debe definir *S, I = z*. También le debe entrar como parámetro el vector de tiempo y argumentos adicionales si es necesario. debe retornar las derivadas de las variables de estado, es decir, $S$ y $I$ (deben estar en el mismo orden como se definieron en z)."
      ]
    },
    {
      "cell_type": "code",
<<<<<<< HEAD
      "execution_count": 15,
=======
      "execution_count": 79,
>>>>>>> 6de46025991e1d09e6450b6f8077b93b5f837355
      "metadata": {
        "id": "gPAl1lp0wQzH"
      },
      "outputs": [],
      "source": [
        "def func(x, t):\n",
        "    S, I = x\n",
        "    dS = mu + beta*I - (alpha*S*I/N)\n",
        "    dI = (alpha*S*I/N) - beta*I - gamma*I\n",
        "    return [dS, dI]"
      ]
    },
    {
      "attachments": {},
      "cell_type": "markdown",
      "metadata": {
        "id": "vlHYHOkewRFF"
      },
      "source": [
        "4. Cree el vector de tiempo, este debe ir desde cero hasta 2 meses en días. Además,establezca las condiciones iniciales dado que la pandemia arranca con el 99% \n",
        "de población susceptible."
      ]
    },
    {
      "cell_type": "code",
<<<<<<< HEAD
      "execution_count": 16,
=======
      "execution_count": 80,
>>>>>>> 6de46025991e1d09e6450b6f8077b93b5f837355
      "metadata": {
        "id": "BVGzjHh1w96o"
      },
      "outputs": [],
      "source": [
        "time_vector = np.linspace(0, 60, 100)\n",
        "x_1 = 0.99*N\n",
        "x_2 = 0.01*N\n",
        "x_0 = [x_1, x_2]"
      ]
    },
    {
      "attachments": {},
      "cell_type": "markdown",
      "metadata": {
        "id": "3uqI9Ryiw-LF"
      },
      "source": [
        "5. Analice la estructura de la función *odeint*. A esta le entra como parámetro la función de entrada, es decir, la función creada anteriormente, el vector de condiciones iniciales, el vector de tiempo y argumentos adicionales. Esta retorna una matriz cuyas columnas corresponden a la solución de las variables de estado en el tiempo en el orden impuesto en la función de entrada. Use esta función para simular el sistema."
      ]
    },
    {
      "cell_type": "code",
<<<<<<< HEAD
      "execution_count": 17,
=======
      "execution_count": 81,
>>>>>>> 6de46025991e1d09e6450b6f8077b93b5f837355
      "metadata": {
        "id": "q-pEYc6LyyUW"
      },
      "outputs": [
        {
          "name": "stdout",
          "output_type": "stream",
          "text": [
            "[[4.95000000e+07 5.00000000e+05]\n",
            " [4.92143652e+07 7.13764767e+05]\n",
            " [4.88106330e+07 1.01471125e+06]\n",
            " [4.82450831e+07 1.43416883e+06]\n",
            " [4.74625708e+07 2.01065011e+06]\n",
            " [4.63979412e+07 2.78766821e+06]\n",
            " [4.49819284e+07 3.80755562e+06]\n",
            " [4.31538346e+07 5.09958544e+06]\n",
            " [4.08816254e+07 6.66247490e+06]\n",
            " [3.81854744e+07 8.44570541e+06]\n",
            " [3.51543293e+07 1.03396742e+07]\n",
            " [3.19422357e+07 1.21861444e+07]\n",
            " [2.87387011e+07 1.38119344e+07]\n",
            " [2.57235903e+07 1.50731518e+07]\n",
            " [2.30281745e+07 1.58883734e+07]\n",
            " [2.07186928e+07 1.62467487e+07]\n",
            " [1.88030552e+07 1.61934529e+07]\n",
            " [1.72499239e+07 1.58052649e+07]\n",
            " [1.60086967e+07 1.51681709e+07]\n",
            " [1.50242341e+07 1.43625060e+07]\n",
            " [1.42452897e+07 1.34557148e+07]\n",
            " [1.36281190e+07 1.25004600e+07]\n",
            " [1.31371907e+07 1.15356603e+07]\n",
            " [1.27444812e+07 1.05887310e+07]\n",
            " [1.24282563e+07 9.67804700e+06]\n",
            " [1.21718036e+07 8.81516806e+06]\n",
            " [1.19623112e+07 8.00667053e+06]\n",
            " [1.17899509e+07 7.25557797e+06]\n",
            " [1.16471590e+07 6.56244178e+06]\n",
            " [1.15280869e+07 5.92614013e+06]\n",
            " [1.14281847e+07 5.34445921e+06]\n",
            " [1.13438898e+07 4.81451091e+06]\n",
            " [1.12723929e+07 4.33302924e+06]\n",
            " [1.12114628e+07 3.89657802e+06]\n",
            " [1.11593146e+07 3.50169408e+06]\n",
            " [1.11145103e+07 3.14498375e+06]\n",
            " [1.10758831e+07 2.82318587e+06]\n",
            " [1.10424800e+07 2.53321076e+06]\n",
            " [1.10135174e+07 2.27216224e+06]\n",
            " [1.09883472e+07 2.03734758e+06]\n",
            " [1.09664296e+07 1.82627929e+06]\n",
            " [1.09473133e+07 1.63667119e+06]\n",
            " [1.09306180e+07 1.46643080e+06]\n",
            " [1.09160224e+07 1.31364942e+06]\n",
            " [1.09032533e+07 1.17659086e+06]\n",
            " [1.08920777e+07 1.05367950e+06]\n",
            " [1.08822956e+07 9.43488275e+05]\n",
            " [1.08737352e+07 8.44726808e+05]\n",
            " [1.08662480e+07 7.56229942e+05]\n",
            " [1.08597054e+07 6.76946871e+05]\n",
            " [1.08539957e+07 6.05930897e+05]\n",
            " [1.08490215e+07 5.42329877e+05]\n",
            " [1.08446977e+07 4.85377370e+05]\n",
            " [1.08409499e+07 4.34384483e+05]\n",
            " [1.08377126e+07 3.88732386e+05]\n",
            " [1.08349284e+07 3.47865467e+05]\n",
            " [1.08325466e+07 3.11285103e+05]\n",
            " [1.08305227e+07 2.78543981e+05]\n",
            " [1.08288170e+07 2.49240962e+05]\n",
            " [1.08273948e+07 2.23016421e+05]\n",
            " [1.08262250e+07 1.99548034e+05]\n",
            " [1.08252802e+07 1.78546981e+05]\n",
            " [1.08245361e+07 1.59754513e+05]\n",
            " [1.08239710e+07 1.42938862e+05]\n",
            " [1.08235657e+07 1.27892466e+05]\n",
            " [1.08233031e+07 1.14429461e+05]\n",
            " [1.08231680e+07 1.02383436e+05]\n",
            " [1.08231466e+07 9.16054142e+04]\n",
            " [1.08232271e+07 8.19620375e+04]\n",
            " [1.08233984e+07 7.33339395e+04]\n",
            " [1.08236511e+07 6.56142859e+04]\n",
            " [1.08239765e+07 5.87074643e+04]\n",
            " [1.08243669e+07 5.25279105e+04]\n",
            " [1.08248155e+07 4.69990565e+04]\n",
            " [1.08253161e+07 4.20523872e+04]\n",
            " [1.08258633e+07 3.76265960e+04]\n",
            " [1.08264522e+07 3.36668278e+04]\n",
            " [1.08270783e+07 3.01240018e+04]\n",
            " [1.08277379e+07 2.69542045e+04]\n",
            " [1.08284273e+07 2.41181462e+04]\n",
            " [1.08291434e+07 2.15806752e+04]\n",
            " [1.08298835e+07 1.93103422e+04]\n",
            " [1.08306450e+07 1.72790103e+04]\n",
            " [1.08314258e+07 1.54615068e+04]\n",
            " [1.08322237e+07 1.38353110e+04]\n",
            " [1.08330370e+07 1.23802746e+04]\n",
            " [1.08338641e+07 1.10783721e+04]\n",
            " [1.08347035e+07 9.91347702e+03]\n",
            " [1.08355540e+07 8.87116198e+03]\n",
            " [1.08364143e+07 7.93851953e+03]\n",
            " [1.08372836e+07 7.10400207e+03]\n",
            " [1.08381608e+07 6.35727851e+03]\n",
            " [1.08390450e+07 5.68910610e+03]\n",
            " [1.08399357e+07 5.09121575e+03]\n",
            " [1.08408321e+07 4.55620937e+03]\n",
            " [1.08417336e+07 4.07746815e+03]\n",
            " [1.08426396e+07 3.64907037e+03]\n",
            " [1.08435498e+07 3.26571800e+03]\n",
            " [1.08444636e+07 2.92267096e+03]\n",
            " [1.08453807e+07 2.61568828e+03]]\n"
          ]
        }
      ],
      "source": [
        "sol = odeint(func, x_0, time_vector)\n",
        "print(sol)"
      ]
    },
    {
      "attachments": {},
      "cell_type": "markdown",
      "metadata": {
        "id": "nZlsgIJEyy15"
      },
      "source": [
        "6. Grafique lo anterior en tres figuras, una para cada nivel de saturación. En cada gráfica se deben incluir ambas poblaciones en porcentaje con respecto a la población total. Recuerde incluir títulos, ejes, uniades y leyendas."
      ]
    },
    {
      "cell_type": "code",
      "execution_count": 82,
      "metadata": {
        "id": "oCaHiqoI0fxt"
      },
      "outputs": [
        {
          "data": {
            "image/png": "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",
            "text/plain": [
              "<Figure size 640x480 with 1 Axes>"
            ]
          },
          "metadata": {},
          "output_type": "display_data"
        }
      ],
      "source": [
        "plt.plot(time_vector, sol[:, 0]*100/N, label='S(t)')\n",
        "plt.plot(time_vector, sol[:, 1]*100/N, label='I(t)')\n",
        "plt.legend()\n",
        "plt.show()"
      ]
    },
    {
      "attachments": {},
      "cell_type": "markdown",
      "metadata": {
        "id": "9McHUMKS_rtc"
      },
      "source": [
        "7. Si todo va bien, su población total debería disminuir aproximadamente al 20%, es decir, cerca del 80% de las personas murieron por la enfermedad. Para evitar esto, es posible modificar los parámetros para analizar en qué situación esto no sucedería. Algunas opciones serían:\n",
        "\n",
        "- Disminuir la tasa de contagio\n",
        "- Aumentar la tasa de recuperación\n",
        "\n",
        "Note que no tendría sentido modificar los demás parámetros debido a que estos están ligados a factores externos a la enfermedad, es decir, la natalidad y la tasa de mortalidad asociada a la letalidad del virus. Modifique los parámetros mencionados de manera que la población total llege al 80% aproximadamente. Vuelva a graficar con sus nuevos parámetros e indique cuáles son en el título del gráfico."
      ]
    },
    {
      "cell_type": "code",
      "execution_count": 18,
      "metadata": {
        "id": "-DtEpAzPDAcy"
      },
      "outputs": [],
      "source": [
        "tasa_rec = 0.4\n",
        "tasa_inf = 0.6\n",
        "tasa_nat = 1560\n",
        "tasa_mort = 0.2\n",
        "pob_inicial = 50e6\n",
        "\n",
        "def func_n(x ,t):\n",
        "    S, I = x\n",
        "    dS = tasa_nat + tasa_rec*I - ((tasa_inf/pob_inicial)*S*I)\n",
        "    dI = ((tasa_inf/pob_inicial)*S*I) - ((tasa_mort+tasa_rec)*I)\n",
        "    return dS, dI\n",
        "\n",
        "sol_2 = odeint(func, x_0, time_vector)"
      ]
    },
    {
      "attachments": {},
      "cell_type": "markdown",
      "metadata": {
        "id": "3J49zirrFLQs"
      },
      "source": [
        "8. Note que se trata de un sistema estable, es decir, sin importar las condiciones iniciales, cuando el tiempo tiende a infinito, ambas poblaciones llegan al mismo valor. Modifique los parámetros como estaban originalmente. Ahora, haga tres gráficos, el primero arrancando con el 30% de población infectada, el segundo con 50% y el tercero con 70%. "
      ]
    },
    {
      "cell_type": "code",
      "execution_count": null,
      "metadata": {
        "id": "9j8K0KE8F5F5"
      },
      "outputs": [],
      "source": []
    },
    {
      "attachments": {},
      "cell_type": "markdown",
      "metadata": {
        "id": "ByiYSqS5EJXd"
      },
      "source": [
        "9. Analice sus resultados respondiendo las siguientes preguntas:\n",
        "\n",
        "- ¿Cómo es la relación entre la población total con la tasa de contagio y con la tasa de recuperación?\n",
        "- ¿Por qué cree que la población infectada llega a cero?\n",
        "- ¿Qué combinación podría tener para que toda la población muera?\n",
        "- ¿Por qué cree que se trata de un sistema estable?"
      ]
    }
  ],
  "metadata": {
    "colab": {
      "provenance": []
    },
    "kernelspec": {
      "display_name": "Python 3",
      "name": "python3"
    },
    "language_info": {
      "codemirror_mode": {
        "name": "ipython",
        "version": 3
      },
      "file_extension": ".py",
      "mimetype": "text/x-python",
      "name": "python",
      "nbconvert_exporter": "python",
      "pygments_lexer": "ipython3",
      "version": "3.10.11"
    }
  },
  "nbformat": 4,
  "nbformat_minor": 0
}
