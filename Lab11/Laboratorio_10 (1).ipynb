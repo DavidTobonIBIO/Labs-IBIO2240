{
  "nbformat": 4,
  "nbformat_minor": 0,
  "metadata": {
    "colab": {
      "provenance": []
    },
    "kernelspec": {
      "name": "python3",
      "display_name": "Python 3"
    },
    "language_info": {
      "name": "python"
    }
  },
  "cells": [
    {
      "cell_type": "markdown",
      "source": [
        "# **Laboratorio 10: Filtros en series de tiempo**\n",
        "**Facultad de ingeniería, departamento de Ingeniería Biomédica, Universidad de los Andes**\\\n",
        "**IBIO-2440 Programación científica**"
      ],
      "metadata": {
        "id": "UnoiBnscrwY9"
      }
    },
    {
      "cell_type": "markdown",
      "source": [
        "**Nombres de los integrantes**\n",
        "\n",
        "\n",
        "1.   Nombre integrante 1\n",
        "2.   Nombre integrante 2\n",
        "\n",
        "**Número del grupo**\n",
        "\n",
        "*Escribir el número del grupo*"
      ],
      "metadata": {
        "id": "rOjs6lq9rzf7"
      }
    },
    {
      "cell_type": "markdown",
      "source": [
        "# **Contexto del problema**\n",
        "El cerebro está activo en todo momento, es capaz de producir actividad de manera espontánea en forma de oscilaciones que pueden ser medidas utilizando distintos métodos, una de las técnicas más utilizadas es la electroencefalografía (EEG) que consiste en colocar electrodos en la superficie de la cabeza para detectar la actividad eléctrica producida por las neuronas.\n",
        "\n",
        "<div>\n",
        "<img src=\"https://cdn.shopify.com/s/files/1/2285/0379/articles/Electroencefalografia_Technomed_960x.png?v=1675279881\" width=\"500\"/>\n",
        "</div>\n",
        "\n",
        "La actividad cerebral se estima a una tasa contínua produciendo una serie temporal que puede ser analizada para diagnosticar enfermedades o investigar procesos básicos como el sueño. \n",
        "\n",
        "En la presente práctica haremos uso de un conjunto de **10 segundos** de datos obtenidos de un paciente en la fase inicial del sueño. Durante esta fase predominan las ondas alfa (6-10Hz, Hertz es la medida de oscilaciones por segundo). La señal inicial estará contaminada con oscilaciones de 60Hz que provienen de las conexiones con la línea eléctrica. El objetivo del presente laboratorio es utilizar el filtro de derivada para obtener una señal sin componentes de alta frecuencia. \n",
        "\n",
        "# **Descripción de la práctica**\n",
        "\n",
        "El filtro de derivada se obtiene cuando se resuelve un problema de optimización de mínimos cuadrados con regularización ponderada:\n",
        "\n",
        "\\begin{align*}\n",
        "\\min_{x} ||y-x||^{2}_{2} + c||Dx||^{2}_{2}\n",
        "\\end{align*}\n",
        "\n",
        "En este problema se busca encontrar el vector $x$ más parecido a $y$ con la restricción de tener cambios suaves en la señal de salida es decir, cuyos valores de energía de la derivada sean pequeños.\n",
        "\n",
        "Al resolver analíticamente el anterior problema se obtiene la siguiente ecuación:\n",
        "\\begin{align*}\n",
        "x = (I+cD^TD)^{-1} y_{}\n",
        "\\end{align*}\n",
        "\n",
        "Donde: \n",
        "- $y$ es el vector de la señal sin filtrar,\n",
        "- $x$ es el vector de la señal filtrada,\n",
        "- $I$ es la matriz identidad (tamaño $m \\times m$ ), \n",
        "- $m$ es el tamaño de la señal, \n",
        "- $c$ es la constante de filtrado,\n",
        "- $D$ es la matriz de regularización (tamaño $m-1 \\times m$),\n",
        "\n",
        "Note que $c$ pondera el valor de la energía de la derivada que se quiere minimizar; en este laboratorio entenderemos el efecto de $c$ sobre una señal con variaciones rápidas. \n",
        "\n",
        "\n",
        "1. Lea y procese los datos en formato *.mat* del documento \"*data.mat*\". Este archivo contiene los datos provenientes de un canal de electroencefalografía en milivoltios (mV). Grafique la serie de tiempo. Nota: Cree el vector de tiempo utilizando la función linspace."
      ],
      "metadata": {
        "id": "MLrNGoyCr5SK"
      }
    },
    {
      "cell_type": "code",
      "execution_count": null,
      "metadata": {
        "id": "enjAGhIGrv9u"
      },
      "outputs": [],
      "source": []
    },
    {
      "cell_type": "markdown",
      "source": [
        "2. Cree una función que construya una matriz de regularización $D$ para una **_señal_** de tamaño $m\\times 1$."
      ],
      "metadata": {
        "id": "EibJY-tscCzB"
      }
    },
    {
      "cell_type": "code",
      "source": [],
      "metadata": {
        "id": "RluFLiE5kT2y"
      },
      "execution_count": null,
      "outputs": []
    },
    {
      "cell_type": "markdown",
      "source": [
        "3. Realice una función que tenga como parámetros de entrada la señal sin filtrar y la constante de filtrado $c$ e implemente el proceso de filtrado descrito en la primera parte.\n",
        "\n"
      ],
      "metadata": {
        "id": "FPA_U5i3xTU3"
      }
    },
    {
      "cell_type": "code",
      "source": [],
      "metadata": {
        "id": "r0EwIVEcXLhd"
      },
      "execution_count": null,
      "outputs": []
    },
    {
      "cell_type": "markdown",
      "source": [
        "*3*. Implemente la función del punto anterior sobre la señal provista y utilice las siguientes constantes de filtrado:\n",
        "\n",
        " - $c_1$ = 10\n",
        " - $c_2$ = 100\n",
        " - $c_3$ = 1000"
      ],
      "metadata": {
        "id": "_U5vQ8tikYcI"
      }
    },
    {
      "cell_type": "code",
      "source": [],
      "metadata": {
        "id": "r_Af1WpRktow"
      },
      "execution_count": null,
      "outputs": []
    },
    {
      "cell_type": "markdown",
      "source": [
        "\n",
        "4. Realice una gráfica de cada una de las señales filtradas obtenidas, utilice distintos plots."
      ],
      "metadata": {
        "id": "E7sXhUhGnTRC"
      }
    },
    {
      "cell_type": "code",
      "source": [],
      "metadata": {
        "id": "XYseVqEOnabK"
      },
      "execution_count": null,
      "outputs": []
    },
    {
      "cell_type": "markdown",
      "source": [
        "8. Responda las siguientes preguntas:\n",
        " - ¿Qué efecto tiene la constante de filtrado sobre la señal de salida?¿Es posible identificar algún tipo de actividad en la serie de tiempo original?\n",
        " - ¿En qué cuáles señales pueden identificar las oscilaciones alfa (6-10 Hz)? [Para esto cuente los picos de la señal que hay en un intervalo de 1 segundo]\n",
        " - ¿Existe algún $c$ para el que se pierda información relevante para el EEG?  "
      ],
      "metadata": {
        "id": "F2-PK8SjXLTs"
      }
    }
  ]
}