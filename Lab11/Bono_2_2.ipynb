{
  "nbformat": 4,
  "nbformat_minor": 0,
  "metadata": {
    "colab": {
      "provenance": []
    },
    "kernelspec": {
      "name": "python3",
      "display_name": "Python 3"
    },
    "language_info": {
      "name": "python"
    }
  },
  "cells": [
    {
      "cell_type": "markdown",
      "source": [
        "# **Laboratorio bono 2**\n",
        "**Facultad de ingeniería, departamento de Ingeniería Biomédica, Universidad de los Andes**\\\n",
        "**IBIO-2440 Programación científica**"
      ],
      "metadata": {
        "id": "UnoiBnscrwY9"
      }
    },
    {
      "cell_type": "markdown",
      "source": [
        "**Nombres de los integrantes**\n",
        "\n",
        "\n",
        "1.   Nombre integrante 1\n",
        "2.   Nombre integrante 2\n",
        "\n",
        "**Número del grupo**\n",
        "\n",
        "*Escribir el número del grupo*"
      ],
      "metadata": {
        "id": "rOjs6lq9rzf7"
      }
    },
    {
      "cell_type": "markdown",
      "source": [
        "# **Contexto del problema**\n",
        "\n",
        "En el análisis de movimiento humano es importante medir fuerzas, torques y potencias, las cuales permiten evaluar el desgaste metabólico del paciente al realizar algún ejercicio y, también, diseñar de forma eficiente prótesis biónicas a partir de teoría de robótica. Calcular estas variables se logra al medir inicialmente la aceleración de un cuerpo través del análisis de video o a través del uso de acelerómetros. En el caso del análisis de video, es usual capturar primero la posición vertical y horizontal del cuerpo para eventualmene estimar la aceleración. Es fundamental tener mediciones de señales de posición que no tienen variaciones demasiado rápidas debido al ruido para realizar un análisis preciso. \n",
        "\n",
        "\n",
        "\n",
        "# **Descripción de la práctica**\n",
        "\n",
        "En esta práctica se desea limpiar la señal de posición vertical y horizontal medida en un codo al abrir y cerrar una puerta, como se muestra en el siguiente esquema, de tal manera que queden listas para calcular eventualmente la aceleración:\n",
        "\n",
        "![1.png](data:image/png;base64,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)\n",
        "\n",
        "Para esto, se registró la posición tanto vertical como horizontal en el tiempo a través de la ubicación de un marcador en el codo y la grabación con el celular de una persona abriendo y cerrando la puerta manteniendo la mano a la misma altura del hombro. Estas dos variables (posición vertical y horizontal) se presentan en un archivo excel junto al arreglo asociado al tiempo. El objetivo de este laboratorio es: filtrar las señales de posición para después encontrar polinomios que mejor se ajusten a cada variable. Para esto, tenga en cuenta lo siguiente: \\\n",
        "\n",
        "**Filtrado:**\n",
        "\n",
        "En el laboratorio anterior se implementó un filtro basado en la minimización de la energía de la derivada de una señal utilizando la matriz de derivadas $D$ definida a partir de la derivada de primer orden:\n",
        "\n",
        "\\begin{align*}\n",
        "Δ_x(k) = x(k+1) - x(k)\n",
        "\\end{align*}\n",
        "\n",
        "Note que los coeficientes de los términos son [1 -1] respectivamente, esta es la razón por la que la matriz $D$ posee la forma:\n",
        "\n",
        "\\begin{align*}\n",
        "D = \\begin{bmatrix}\n",
        "1 & -1 &   &   &  \\\\\n",
        "  & 1 & -1 &   & \\\\\n",
        "  &   & & \\ddots & \\\\\n",
        "&  &  & 1 & -1\\\\\n",
        "\\end{bmatrix}\n",
        "\\end{align*}\n",
        "\n",
        "Esta derivada de primer orden también puede ser entendida como la velocidad o tasa de cambio de la señal. Sin embargo, como se mencionó en el contexto del problema, se busca calcular aceleraciones. Un filtro más adecuado para este caso es uno basado en la energía de la aceleración, es decir, que siga la siguiente ecuación en diferencias:\n",
        "\n",
        "\\begin{align*}\n",
        "Δ^2_x(k) = Δ_x(k) - Δ_x(k-1)\n",
        "\\end{align*}\n",
        "\n",
        "Es decir, la matriz $D$ debe cambiar para ahora calcular la diferencia de las derivadas.\n",
        "\n",
        "**Ajuste polinomial**\n",
        "En un laboratorio anterior se ajustó una recta con respecto a datos experimentales a partir de la regresión lineal usando mínimos cuadrados. Sin embargo, en este laboratorio es necesario incrementar el grado del polinomio de la siguiente forma:\n",
        "\\begin{align*}\n",
        "P_n(t) = \\sum_{i=0}^{n} β_it^{i}\n",
        "\\end{align*}\n",
        "\n",
        "Donde $n$ es el grado del polinomio, $\\beta_i$ son los coeficientes del polinomio y $t$ es la variable del tiempo. \n",
        "\n",
        "Para llevar a cabo el objetivo, siga los siguientes pasos:\n",
        "\n",
        "\n",
        "\n",
        "1. Defina una función que permita constuir la matriz $D$ ahora teniendo en cuenta las diferencias de las derivadas. Esta función debe recibir como parámetro el número de datos y debe retornar la matriz $D$."
      ],
      "metadata": {
        "id": "MLrNGoyCr5SK"
      }
    },
    {
      "cell_type": "code",
      "execution_count": null,
      "metadata": {
        "id": "enjAGhIGrv9u"
      },
      "outputs": [],
      "source": []
    },
    {
      "cell_type": "markdown",
      "source": [
        "2. Construya una función que permita filtrar la señal usando la función anterior para la construcción de la matriz $D$, a esta nueva función le debe entrar como parámetro la señal a filtrar y el parámetro $c$ y debe retornar la señal filtrada."
      ],
      "metadata": {
        "id": "EibJY-tscCzB"
      }
    },
    {
      "cell_type": "code",
      "source": [],
      "metadata": {
        "id": "RluFLiE5kT2y"
      },
      "execution_count": null,
      "outputs": []
    },
    {
      "cell_type": "markdown",
      "source": [
        "3. Teniendo en cuenta los datos en excel, filtre la posición tanto horizontal como vertical minimizando la energía de la segunda derivada (es decir, la energía de las diferencias de las derivadas). Haga un gráfico donde comparan los datos crudos y filtrados para la posición horizontal en el tiempo. El segundo gráfico es igual pero para la posición vertical. Realice este procedimiento para varios valores de $c$ e indique el que usted considere mejor. Aquí un \"buen\"  $c$ es tal que la señal es filtrada sin perder información importante del movimiento."
      ],
      "metadata": {
        "id": "_U5vQ8tikYcI"
      }
    },
    {
      "cell_type": "code",
      "source": [],
      "metadata": {
        "id": "r_Af1WpRktow"
      },
      "execution_count": null,
      "outputs": []
    },
    {
      "cell_type": "markdown",
      "source": [
        "4. Filtre la señal usando la matriz de primeras derivadas y compare la sensibilidad del filtrado al parámetro $c$ con el filtrado anterior."
      ],
      "metadata": {
        "id": "k27Eeu4eP8AD"
      }
    },
    {
      "cell_type": "code",
      "source": [],
      "metadata": {
        "id": "31DOlQ4fQFwc"
      },
      "execution_count": null,
      "outputs": []
    },
    {
      "cell_type": "markdown",
      "source": [
        "5. Tenga en cuenta que para filtrar la señal hay que invetir una matriz. Teniendo en cuenta la teoría de regularización, la condición de una matriz debería mejorar al regularizar el problema de minimización. Calcule la condición de la matriz que requiere ser invertida para cada uno de los valores de $c$ definidos en el punto 3. Analice el efecto de $c$ sobre la condición de la matriz."
      ],
      "metadata": {
        "id": "0gYWQDk_Ja-Y"
      }
    },
    {
      "cell_type": "code",
      "source": [],
      "metadata": {
        "id": "Y-mNPwddKAkv"
      },
      "execution_count": null,
      "outputs": []
    },
    {
      "cell_type": "markdown",
      "source": [
        "\n",
        "6. Construya una función que permita construir la matriz $H$ para regresión polinómica de grado $n$. A esta función le dede entrar como parámetro los datos de la variable independiente en un conjunto de datos y el grado $n$ del polinomio de ajuste. "
      ],
      "metadata": {
        "id": "E7sXhUhGnTRC"
      }
    },
    {
      "cell_type": "code",
      "source": [],
      "metadata": {
        "id": "XYseVqEOnabK"
      },
      "execution_count": null,
      "outputs": []
    },
    {
      "cell_type": "markdown",
      "source": [
        "7. Usando los datos filtrados anteriomente, haga una regresión polinómica donde el grado del polinomio lo debe escoger empíricamente minimizando el error cuadrático lo más que se pueda. Luego, en un gráfico, compare los datos crudos, los filtrados, y el polinomio para la posición horizontal. Realice el mismo procedimiento para la posición vertical."
      ],
      "metadata": {
        "id": "nSiGKjQYuvNI"
      }
    },
    {
      "cell_type": "code",
      "source": [],
      "metadata": {
        "id": "A8aO7hSvNR7N"
      },
      "execution_count": null,
      "outputs": []
    },
    {
      "cell_type": "markdown",
      "source": [
        "8. Responda las siguientes preguntas:\n",
        " - ¿Cuál filtro fue mejor teniendo en cuenta el error cuadrático?, desde el punto de vista matemático, ¿por qué sucede esto? (use la información de la condición de una matriz)\n",
        " - ¿Cómo influyó el parámetro $c$ en el filtro teniendo en cuenta la energía tanto de primera como de segunda derivada?\n",
        " - ¿Cuál grado polinómico le dio mejores resultados?, ¿qué pasa cuando el grado es muy bajo y cuando es muy alto?\n",
        " - Teniendo en cuenta que se usaron los datos filtrados para construir la regresión, ¿qué hubiera pasado si se usaran los datos crudos?"
      ],
      "metadata": {
        "id": "F2-PK8SjXLTs"
      }
    }
  ]
}